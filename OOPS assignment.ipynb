{
  "metadata": {
    "kernelspec": {
      "name": "python",
      "display_name": "Python (Pyodide)",
      "language": "python"
    },
    "language_info": {
      "codemirror_mode": {
        "name": "python",
        "version": 3
      },
      "file_extension": ".py",
      "mimetype": "text/x-python",
      "name": "python",
      "nbconvert_exporter": "python",
      "pygments_lexer": "ipython3",
      "version": "3.8"
    }
  },
  "nbformat_minor": 4,
  "nbformat": 4,
  "cells": [
    {
      "cell_type": "markdown",
      "source": "### 1. What are the five key concepts of Object-Oriented Programming (OOP)?",
      "metadata": {}
    },
    {
      "cell_type": "code",
      "source": "# Ans. \n# The five key concepts of Object-Oriented Programming (OOP) are:\n\n# 1. Class\n- A class is a blueprint or template for creating objects.\n  It defines the attributes (data) and methods (functions) that the objects created from the class will have.\n# Example - \nclass Car:\n    def __init__(self, brand, model):\n        self.brand = brand\n        self.model = model\n    \n    def display_info(self):\n        print(f\"Car: {self.brand} {self.model}\")\n# 2. Object\n- An object is an instance of a class. Objects are created using the class blueprint, and they represent real-world entities or concepts.\n# Example:\n\nmy_car = Car(\"Toyota\", \"Corolla\")\nmy_car.display_info()  # Output: Car: Toyota Corolla\n# Here, my_car is an object (instance) of the Car class.\n\n# 3. Encapsulation\n- Encapsulation is the concept of bundling data (attributes) and methods (functions) that operate on the data into a single unit (class). \n  It also restricts direct access to some of the class’s components, which is why we use private or protected members.\n- Encapsulation is often implemented using access control (like private variables or getter/setter methods).\n# Example:\nclass BankAccount:\n    def __init__(self, balance):\n        self.__balance = balance  # Private attribute\n\n    def deposit(self, amount):\n        self.__balance += amount\n\n    def get_balance(self):\n        return self.__balance\n# In this example, __balance is a private attribute, and it can only be accessed or modified using the deposit and get_balance methods.\n\n# 4. Inheritance\n- Inheritance allows a new class (child class) to inherit attributes and methods from an existing class (parent class). \n  This allows code reuse and the ability to extend or modify the behavior of the parent class.\n# Example:\nclass Vehicle:\n    def __init__(self, brand, model):\n        self.brand = brand\n        self.model = model\n    \n    def display_info(self):\n        print(f\"Vehicle: {self.brand} {self.model}\")\n\nclass Car(Vehicle):  # Car class inherits from Vehicle\n    def __init__(self, brand, model, doors):\n        super().__init__(brand, model)\n        self.doors = doors\n\n    def display_info(self):\n        print(f\"Car: {self.brand} {self.model}, Doors: {self.doors}\")\n\n# Here, the Car class inherits from the Vehicle class but also adds its own attribute (doors) and overrides the display_info method.\n\n# 5. Polymorphism\n- Polymorphism allows objects of different classes to be treated as objects of a common superclass,\n  typically through the use of methods with the same name but different implementations.\n# There are two types of polymorphism:\n- Method Overriding (runtime polymorphism): Subclass provides a specific implementation of a method that is already defined in its parent class.\n- Method Overloading (compile-time polymorphism): Multiple methods have the same name but different parameter lists (not commonly used in Python).\n# Example:\nclass Animal:\n    def speak(self):\n        pass\n\nclass Dog(Animal):\n    def speak(self):\n        return \"Woof!\"\n\nclass Cat(Animal):\n    def speak(self):\n        return \"Meow!\"\n\ndef animal_sound(animal):\n    print(animal.speak())\n\ndog = Dog()\ncat = Cat()\n\nanimal_sound(dog)  # Output: Woof!\nanimal_sound(cat)  # Output: Meow!\n# In this example, both Dog and Cat inherit from Animal, and each class has its own implementation of the speak method.\n",
      "metadata": {
        "trusted": true
      },
      "outputs": [],
      "execution_count": null
    },
    {
      "cell_type": "markdown",
      "source": "### 2. Write a Python class for a `Car` with attributes for `make`, `model`, and `year`. Include a method to display the car's information.",
      "metadata": {}
    },
    {
      "cell_type": "code",
      "source": "# Ans. \n# Here’s an example of a Python class for a Car with attributes for make, model, and year, along with a method to display the car's information:\n\nclass Car:\n    # Constructor to initialize the car attributes\n    def __init__(self, make, model, year):\n        self.make = make    # Car manufacturer\n        self.model = model  # Car model\n        self.year = year    # Year of manufacture\n    \n    # Method to display the car's information\n    def display_info(self):\n        print(f\"Car Information: {self.year} {self.make} {self.model}\")\n\n# Create an instance of the Car class\nmy_car = Car(\"Toyota\", \"Corolla\", 2020)\n\n# Call the display_info method to show car details\nmy_car.display_info()  # Output: Car Information: 2020 Toyota Corolla\n",
      "metadata": {
        "trusted": true
      },
      "outputs": [],
      "execution_count": null
    },
    {
      "cell_type": "markdown",
      "source": "### 3. Explain the difference between instance methods and class methods. Provide an example of each.",
      "metadata": {}
    },
    {
      "cell_type": "code",
      "source": "# Ans. \n# Difference Between Instance Methods and Class Methods:\n# 1. Instance Methods:\n\n- Definition: Instance methods are methods that are defined inside a class and work on instance variables of the class. \n              These methods can access and modify the instance's attributes and invoke other instance methods.\n- Access: They can only be called by an instance of the class.\n- Self Parameter: The first parameter of an instance method is always self, which refers to the instance that is calling the method.\n# 2. Class Methods:\n- Definition: Class methods are methods that are bound to the class itself, rather than to instances of the class. \n  They can access and modify the class state that applies to all instances of the class, but they cannot modify instance-specific attributes.\n- Access: They can be called by the class or an instance of the class.\n- Cls Parameter: The first parameter of a class method is cls, which refers to the class itself.\n- Decorator: Class methods are created using the @classmethod decorator.\n\n# Key Differences:\n- Instance methods can access and modify both the instance attributes and class attributes,\n  while class methods can only access and modify class attributes.\n- Instance methods need to be called on an object, whereas class methods can be called on both the class itself or an object of the class.\n# Example of Instance and Class Methods\nclass Car:\n    # Class attribute\n    num_of_wheels = 4\n    \n    # Constructor to initialize instance attributes\n    def __init__(self, make, model, year):\n        self.make = make    # Instance attribute\n        self.model = model  # Instance attribute\n        self.year = year    # Instance attribute\n    \n    # Instance method\n    def display_info(self):\n        # Accesses instance-specific attributes\n        print(f\"Car Information: {self.year} {self.make} {self.model}\")\n    \n    # Class method\n    @classmethod\n    def update_num_of_wheels(cls, new_count):\n        # Modifies class-level attribute\n        cls.num_of_wheels = new_count\n        print(f\"Number of wheels updated to: {cls.num_of_wheels}\")\n\n# Create an instance of the Car class\nmy_car = Car(\"Toyota\", \"Corolla\", 2020)\n\n# Call instance method\nmy_car.display_info()  # Output: Car Information: 2020 Toyota Corolla\n\n# Call class method using class\nCar.update_num_of_wheels(6)  # Output: Number of wheels updated to: 6\n\n# Call class method using an instance\nmy_car.update_num_of_wheels(8)  # Output: Number of wheels updated to: 8\n",
      "metadata": {
        "trusted": true
      },
      "outputs": [],
      "execution_count": null
    },
    {
      "cell_type": "markdown",
      "source": "### 4. How does Python implement method overloading? Give an example.\n",
      "metadata": {}
    },
    {
      "cell_type": "code",
      "source": "# Ans. \n# Method Overloading in Python\n# Python does not natively support method overloading in the traditional sense, like some other programming languages (e.g., Java or C++).\n# In those languages, you can define multiple methods with the same name but different numbers or types of parameters.\n\n- However, in Python, if you define multiple methods with the same name, the most recent definition will overwrite the previous ones.\n  To simulate method overloading in Python, you can use techniques like:\n# 1. Using default parameters.\n# 2. Using variable-length arguments (*args and **kwargs).\n# 3. Manually checking the number and types of arguments within a method.\n\n# Example of Simulating Method Overloading\n# Here’s how you can simulate method overloading using default arguments and *args:\n\n# Using Default Parameters:\nclass Calculator:\n    # A method that can handle different numbers of arguments using default values\n    def add(self, a, b=0, c=0):\n        return a + b + c\n\n# Create an instance of the Calculator class\ncalc = Calculator()\n\n# Call the add method with different numbers of arguments\nprint(calc.add(5))        # Output: 5 (only one argument)\nprint(calc.add(5, 3))     # Output: 8 (two arguments)\nprint(calc.add(5, 3, 2))  # Output: 10 (three arguments)\n\n- In this example, the add method can accept 1, 2, or 3 arguments by providing default values for b and c.\n  Depending on the number of arguments passed, the method behaves as if it is overloaded.\n\n# Using *args for Variable Arguments:\nclass Calculator:\n    # A method that uses *args to accept any number of arguments\n    def add(self, *args):\n        return sum(args)\n\n# Create an instance of the Calculator class\ncalc = Calculator()\n\n# Call the add method with different numbers of arguments\nprint(calc.add(5))          # Output: 5 (one argument)\nprint(calc.add(5, 3))       # Output: 8 (two arguments)\nprint(calc.add(5, 3, 2))    # Output: 10 (three arguments)\nprint(calc.add(5, 3, 2, 1)) # Output: 11 (four arguments)\n\n# In this example, the add method uses *args to accept any number of arguments. It sums all the values passed to it, mimicking method overloading.\n    ",
      "metadata": {
        "trusted": true
      },
      "outputs": [],
      "execution_count": null
    },
    {
      "cell_type": "markdown",
      "source": "### 5. What are the three types of access modifiers in Python? How are they denoted?",
      "metadata": {}
    },
    {
      "cell_type": "code",
      "source": "# Ans. \nIn Python, access modifiers control the accessibility of variables and methods in a class.\nWhile Python doesn't enforce strict access control like some other languages (e.g., Java or C++),\nit uses naming conventions to indicate the intended access level. These access modifiers are essentially\nguidelinesfor developers and rely on name mangling for limited protection.\n\n# The Three Types of Access Modifiers in Python:\n# 1. Public:\n\n# Definition: Attributes and methods that are accessible from anywhere (inside or outside the class).\n# Denotation: No leading underscores.\n# Use Case: Public members are the default in Python, and they can be accessed and modified freely from outside the class.\n# Example:\n\nclass Car:\n    def __init__(self, make, model):\n        self.make = make   # Public attribute\n        self.model = model # Public attribute\n\n    def display_info(self):  # Public method\n        print(f\"Car: {self.make} {self.model}\")\n\ncar = Car(\"Toyota\", \"Corolla\")\nprint(car.make)   # Accessible from outside\ncar.display_info()  # Accessible from outside\n\n# In this example, make and model are public, so they can be accessed from anywhere.\n\n# 2. Protected:\n\n- Definition: Attributes and methods that should not be accessed directly from outside the class but can be accessed in subclasses.\n- Denotation: A single leading underscore (_).\n- Use Case: Protected members are meant for internal use within the class and its subclasses.\n  It's a convention indicating that these members should not be accessed directly.\n# Example: \n                            \nclass Car:\n    def __init__(self, make, model):\n        self._make = make    # Protected attribute\n        self._model = model  # Protected attribute\n\n    def _display_info(self):  # Protected method\n        print(f\"Car: {self._make} {_self.model}\")\n\ncar = Car(\"Toyota\", \"Corolla\")\nprint(car._make)  # Though possible, it’s advised not to access directly\n\n** The single underscore (_) indicates that make and model are intended for internal use,\n   though they can still be accessed directly from outside (but it's not recommended). **\n\n# 3. Private:\n\n- Definition: Attributes and methods that are not accessible from outside the class, and are also hidden from subclasses.\n- Denotation: Two leading underscores (__).\n- Use Case: Private members are intended to be used only within the class where they are defined.\n  Python performs name mangling to make these members inaccessible from outside the class.\n\n# Example: \nclass Car:\n    def __init__(self, make, model):\n        self.__make = make   # Private attribute\n        self.__model = model # Private attribute\n\n    def __display_info(self):  # Private method\n        print(f\"Car: {self.__make} {self.__model}\")\n\ncar = Car(\"Toyota\", \"Corolla\")\n# print(car.__make)  # This will raise an AttributeError\n\n# Accessing private attribute through name mangling\nprint(car._Car__make)  # Output: Toyota\n\n** Here, make and model are private, and attempting to access them directly from outside the class will result in an AttributeError.\nHowever, Python’s name mangling allows accessing private members using _ClassName__attribute. **\n",
      "metadata": {
        "trusted": true
      },
      "outputs": [],
      "execution_count": null
    },
    {
      "cell_type": "markdown",
      "source": "### 6. Describe the five types of inheritance in Python. Provide a simple example of multiple inheritance.",
      "metadata": {}
    },
    {
      "cell_type": "code",
      "source": "# Ans. \n# The Five Types of Inheritance in Python:\n# 1. Single Inheritance:\n\n# Definition: A child class inherits from only one parent class.\n# Example: \nclass Parent:\n    def parent_method(self):\n        print(\"This is the parent method.\")\n\nclass Child(Parent):\n    def child_method(self):\n        print(\"This is the child method.\")\n\nc = Child()\nc.parent_method()  # Output: This is the parent method.\nc.child_method()   # Output: This is the child method.\n\n# 2. Multiple Inheritance:\n\n** Definition: A child class inherits from more than one parent class. Python supports multiple inheritance,\n   allowing a class to be derived from multiple classes. **\n# Example:\nclass Father:\n    def father_method(self):\n        print(\"This is the father method.\")\n\nclass Mother:\n    def mother_method(self):\n        print(\"This is the mother method.\")\n\nclass Child(Father, Mother):\n    def child_method(self):\n        print(\"This is the child method.\")\n\nc = Child()\nc.father_method()  # Output: This is the father method.\nc.mother_method()  # Output: This is the mother method.\nc.child_method()   # Output: This is the child method.\n\n# 3. Multilevel Inheritance:\n\n# Definition: A class inherits from another class, which in turn inherits from another class, forming a chain of inheritance.\n# Example:\nclass Grandparent:\n    def grandparent_method(self):\n        print(\"This is the grandparent method.\")\n\nclass Parent(Grandparent):\n    def parent_method(self):\n        print(\"This is the parent method.\")\n\nclass Child(Parent):\n    def child_method(self):\n        print(\"This is the child method.\")\n\nc = Child()\nc.grandparent_method()  # Output: This is the grandparent method.\nc.parent_method()       # Output: This is the parent method.\nc.child_method()        # Output: This is the child method.\n\n# 4. Hierarchical Inheritance:\n\n# Definition: Multiple child classes inherit from a single parent class.\n# Example:\nclass Parent:\n    def parent_method(self):\n        print(\"This is the parent method.\")\n\nclass Child1(Parent):\n    def child1_method(self):\n        print(\"This is child 1 method.\")\n\nclass Child2(Parent):\n    def child2_method(self):\n        print(\"This is child 2 method.\")\n\nc1 = Child1()\nc2 = Child2()\nc1.parent_method()  # Output: This is the parent method.\nc1.child1_method()  # Output: This is child 1 method.\nc2.parent_method()  # Output: This is the parent method.\nc2.child2_method()  # Output: This is child 2 method.\n\n# 5. Hybrid Inheritance:\n\n** Definition: A combination of two or more types of inheritance. Hybrid inheritance is a mix of multiple inheritance and any other form,\n   like multilevel or hierarchical inheritance. **\n# Example:\nclass Base:\n    def base_method(self):\n        print(\"This is the base method.\")\n\nclass A(Base):\n    def a_method(self):\n        print(\"This is class A method.\")\n\nclass B(Base):\n    def b_method(self):\n        print(\"This is class B method.\")\n\nclass C(A, B):\n    def c_method(self):\n        print(\"This is class C method.\")\n\nc = C()\nc.base_method()  # Output: This is the base method.\nc.a_method()     # Output: This is class A method.\nc.b_method()     # Output: This is class B method.\nc.c_method()     # Output: This is class C method.\n\n### Example of Multiple Inheritance:\n# Here’s a simple example of multiple inheritance, where a class inherits from two or more parent classes:\n\n# Example: \nclass Father:\n    def speak(self):\n        print(\"Father says hello!\")\n\nclass Mother:\n    def laugh(self):\n        print(\"Mother laughs heartily!\")\n\nclass Child(Father, Mother):\n    def play(self):\n        print(\"Child is playing!\")\n\n# Create an instance of Child class\nchild = Child()\n\n# Calling methods from both parent classes\nchild.speak()  # Output: Father says hello!\nchild.laugh()  # Output: Mother laughs heartily!\nchild.play()   # Output: Child is playing!\n",
      "metadata": {
        "trusted": true
      },
      "outputs": [],
      "execution_count": null
    },
    {
      "cell_type": "markdown",
      "source": "### 7. What is the Method Resolution Order (MRO) in Python? How can you retrieve it programmatically?\n",
      "metadata": {}
    },
    {
      "cell_type": "code",
      "source": "# Ans. \n# Method Resolution Order (MRO) in Python:\n- The Method Resolution Order (MRO) in Python determines the order in which base classes are searched when executing a method\n  or accessing an attribute in the presence of inheritance. MRO is crucial when a class is derived from multiple classes (multiple inheritance),\n  as it decides the sequence in which Python looks for methods. \n\n- Python uses the C3 Linearization Algorithm (also known as C3 superclass linearization) to calculate the MRO.\n  The MRO ensures that a class is visited only once in the hierarchy, following the \"depth-first\" and \"left-to-right\" principles.\n# MRO (Method Resolution Order) determines the order in which base classes are searched for methods or attributes.\n\n# Example of MRO:\nclass A:\n    def who_am_i(self):\n        print(\"I am A\")\n\nclass B(A):\n    def who_am_i(self):\n        print(\"I am B\")\n\nclass C(A):\n    def who_am_i(self):\n        print(\"I am C\")\n\nclass D(B, C):\n    pass\n\nd = D()\nd.who_am_i()  # Output: I am B\n\n### Retrieving MRO Programmatically:\n# You can retrieve the MRO of a class using the built-in mro() method or the __mro__ attribute.\n\n# 1. Using mro() Method:\nprint(D.mro())\nOutput:\n[<class '__main__.D'>, <class '__main__.B'>, <class '__main__.C'>, <class '__main__.A'>, <class 'object'>]\n\n# 2. Using __mro__ Attribute:\nprint(D.__mro__)\nOutput:\n(<class '__main__.D'>, <class '__main__.B'>, <class '__main__.C'>, <class '__main__.A'>, <class 'object'>)\n",
      "metadata": {
        "trusted": true
      },
      "outputs": [],
      "execution_count": null
    },
    {
      "cell_type": "markdown",
      "source": "### 8. Create an abstract base class `Shape` with an abstract method `area()`. Then create two subclasses `Circle` and `Rectangle` that implement the `area()` method.",
      "metadata": {}
    },
    {
      "cell_type": "code",
      "source": "# Ans. \n# In Python, an abstract base class (ABC) is a class that contains one or more abstract methods.\n- Abstract methods are methods that are declared in the base class but are not implemented. Subclasses that inherit from an abstract base class\n  must implement these abstract methods.\n# We can create abstract classes using the abc module and ABC class, along with the @abstractmethod decorator.\n\n** Here’s an example where we create an abstract base class Shape with an abstract method area().\n  Then, two subclasses, Circle and Rectangle, implement the area() method.**\n\n# Code Example:\n\nfrom abc import ABC, abstractmethod\nimport math\n\n# Abstract Base Class\nclass Shape(ABC):\n    @abstractmethod\n    def area(self):\n        pass  # Abstract method, no implementation here\n\n# Subclass 1: Circle\nclass Circle(Shape):\n    def __init__(self, radius):\n        self.radius = radius\n    \n    def area(self):\n        return math.pi * self.radius ** 2\n\n# Subclass 2: Rectangle\nclass Rectangle(Shape):\n    def __init__(self, width, height):\n        self.width = width\n        self.height = height\n    \n    def area(self):\n        return self.width * self.height\n\n# Create objects and calculate areas\ncircle = Circle(5)  # A circle with radius 5\nrectangle = Rectangle(4, 6)  # A rectangle with width 4 and height 6\n\nprint(f\"Circle area: {circle.area()}\")  # Output: Circle area: 78.53981633974483\nprint(f\"Rectangle area: {rectangle.area()}\")  # Output: Rectangle area: 24\n",
      "metadata": {
        "trusted": true
      },
      "outputs": [],
      "execution_count": null
    },
    {
      "cell_type": "markdown",
      "source": "### 9. Demonstrate polymorphism by creating a function that can work with different shape objects to calculate and print their areas.",
      "metadata": {}
    },
    {
      "cell_type": "code",
      "source": "# Ans. \n** Polymorphism allows objects of different classes to be treated as objects of a common superclass. In this case, we can define\n   a function that takes in any shape object (like Circle or Rectangle) and calls the area() method, regardless of the specific class type.**\n#  This demonstrates the concept of polymorphism, where the same method (in this case, area()) can work on different types of objects.\n\n# Code Example: \nfrom abc import ABC, abstractmethod\nimport math\n\n# Abstract Base Class\nclass Shape(ABC):\n    @abstractmethod\n    def area(self):\n        pass\n\n# Subclass: Circle\nclass Circle(Shape):\n    def __init__(self, radius):\n        self.radius = radius\n    \n    def area(self):\n        return math.pi * self.radius ** 2\n\n# Subclass: Rectangle\nclass Rectangle(Shape):\n    def __init__(self, width, height):\n        self.width = width\n        self.height = height\n    \n    def area(self):\n        return self.width * self.height\n\n# Polymorphic function to calculate the area\ndef print_area(shape):\n    print(f\"The area is: {shape.area()}\")\n\n# Create objects of different shapes\ncircle = Circle(5)         # A circle with radius 5\nrectangle = Rectangle(4, 6)  # A rectangle with width 4 and height 6\n\n# Use the polymorphic function\nprint_area(circle)     # Output: The area is: 78.53981633974483\nprint_area(rectangle)  # Output: The area is: 24\n",
      "metadata": {
        "trusted": true
      },
      "outputs": [],
      "execution_count": null
    },
    {
      "cell_type": "markdown",
      "source": "### 10. Implement encapsulation in a `BankAccount` class with private attributes for `balance` and `account_number`. Include methods for deposit, withdrawal, and balance inquiry.",
      "metadata": {}
    },
    {
      "cell_type": "code",
      "source": "# Ans. \n# Encapsulation in Python:\n- Encapsulation is a key concept in Object-Oriented Programming (OOP) that restricts direct access to certain attributes of an object,\n  typically by making them private. In Python, encapsulation is achieved by prefixing attributes with double underscores (__) to make them private.\n  Access to these attributes is controlled through getter and setter methods.\n\n# Implementing BankAccount Class with Encapsulation:\n- In this example, the BankAccount class encapsulates the private attributes __balance and __account_number.\n  The class provides public methods for depositing, withdrawing, and checking the balance.\n\nclass BankAccount:\n    def __init__(self, account_number, initial_balance=0):\n        # Private attributes\n        self.__account_number = account_number\n        self.__balance = initial_balance\n    \n    # Method to deposit money into the account\n    def deposit(self, amount):\n        if amount > 0:\n            self.__balance += amount\n            print(f\"Deposited {amount} into account {self.__account_number}.\")\n        else:\n            print(\"Deposit amount must be positive.\")\n    \n    # Method to withdraw money from the account\n    def withdraw(self, amount):\n        if 0 < amount <= self.__balance:\n            self.__balance -= amount\n            print(f\"Withdrew {amount} from account {self.__account_number}.\")\n        else:\n            print(\"Insufficient balance or invalid amount.\")\n    \n    # Method to inquire about the current balance\n    def check_balance(self):\n        print(f\"Account {self.__account_number} has a balance of {self.__balance}.\")\n    \n    # Getter for account number (optional)\n    def get_account_number(self):\n        return self.__account_number\n\n# Example usage\naccount = BankAccount(\"123456789\", 1000)  # Create a bank account with initial balance\naccount.check_balance()    # Output: Account 123456789 has a balance of 1000.\n\naccount.deposit(500)       # Output: Deposited 500 into account 123456789.\naccount.check_balance()    # Output: Account 123456789 has a balance of 1500.\n\naccount.withdraw(200)      # Output: Withdrew 200 from account 123456789.\naccount.check_balance()    # Output: Account 123456789 has a balance of 1300.\n\n# Trying to access the private balance directly (will cause an error)\n# print(account.__balance)  # This will raise an AttributeError\n\n# Accessing the account number via a method\nprint(f\"Account Number: {account.get_account_number()}\")\n",
      "metadata": {
        "trusted": true
      },
      "outputs": [],
      "execution_count": null
    },
    {
      "cell_type": "markdown",
      "source": "### 11. Write a class that overrides the `__str__` and `__add__` magic methods. What will these methods allow you to do?",
      "metadata": {}
    },
    {
      "cell_type": "code",
      "source": "# Ans. \n# Magic Methods in Python:\n- Magic methods (also called dunder methods, short for \"double underscore\") are special methods in Python that allow you to define how built-in\n  operators and functions work with your custom objects. Two common magic methods are:\n#  __str__(): Defines how an object is represented as a string when printed or converted to a string.\n#  __add__(): Defines how the + operator works for your objects.\n\n# By overriding these magic methods, you can customize their behavior for your class.\n# Example: Overriding __str__() and __add__() in a Point Class\n\n# We'll create a class Point to represent a point in a 2D space and override the __str__() and __add__() methods:\n\nclass Point:\n    def __init__(self, x, y):\n        self.x = x\n        self.y = y\n\n    # Overriding the __str__ method\n    def __str__(self):\n        return f\"Point({self.x}, {self.y})\"\n\n    # Overriding the __add__ method\n    def __add__(self, other):\n        if isinstance(other, Point):\n            return Point(self.x + other.x, self.y + other.y)\n        return NotImplemented\n\n# Example usage:\np1 = Point(2, 3)\np2 = Point(4, 1)\n\n# Printing objects\nprint(p1)  # Output: Point(2, 3)\nprint(p2)  # Output: Point(4, 1)\n\n# Adding two Point objects using the overridden __add__ method\np3 = p1 + p2\nprint(p3)  # Output: Point(6, 4)\n\n# What These Methods Allow You to Do:\n- __str__(): Allows you to define how an object is displayed when printed or when converted to a string. This is useful for debugging,\n   logging, or user-friendly representations of objects. \n- __add__(): Allows you to customize the behavior of the + operator for your objects. \n  You can control how objects of the same type interact with each other when added, which is useful for arithmetic, concatenation, or combining objects in meaningful ways.\nOutput:\n# Printing the object: Instead of displaying the memory address of the object, the custom string representation is shown.\nprint(p1)  # Output: Point(2, 3)\n\n# Adding two objects: The overridden __add__() method allows you to add two Point objects, resulting in a new point whose coordinates are the sum of the two input points.\np3 = p1 + p2\nprint(p3)  # Output: Point(6, 4)\n",
      "metadata": {
        "trusted": true
      },
      "outputs": [],
      "execution_count": null
    },
    {
      "cell_type": "markdown",
      "source": "### 12. Create a decorator that measures and prints the execution time of a function.",
      "metadata": {}
    },
    {
      "cell_type": "code",
      "source": "# Ans. \n- In Python, decorators are used to modify or extend the behavior of a function or method.\n  To measure and print the execution time of a function, we can create a decorator that captures the start and end times and calculates the difference. \n\n# Here's an example of how to create such a decorator:\n### Code Example: Timing Decorator\nimport time\n\n# Define the decorator to measure execution time\ndef time_it(func):\n    def wrapper(*args, **kwargs):\n        start_time = time.time()  # Record the start time\n        result = func(*args, **kwargs)  # Call the original function\n        end_time = time.time()  # Record the end time\n        execution_time = end_time - start_time  # Calculate the execution time\n        print(f\"Function '{func.__name__}' executed in {execution_time:.4f} seconds.\")\n        return result  # Return the result of the original function\n    return wrapper\n\n# Example function to demonstrate the use of the decorator\n@time_it\ndef slow_function(seconds):\n    print(f\"Sleeping for {seconds} seconds...\")\n    time.sleep(seconds)  # Simulate a slow function with sleep\n    return \"Function finished!\"\n\n# Using the decorated function\nprint(slow_function(2))\nOutput:\n# When you run the code, it will print the function’s output along with the execution time:\nSleeping for 2 seconds...\nFunction 'slow_function' executed in 2.0021 seconds.\nFunction finished!\n",
      "metadata": {
        "trusted": true
      },
      "outputs": [],
      "execution_count": null
    },
    {
      "cell_type": "markdown",
      "source": "### 13. Explain the concept of the Diamond Problem in multiple inheritance. How does Python resolve it?",
      "metadata": {}
    },
    {
      "cell_type": "code",
      "source": "# Ans. \n# Diamond Problem in Multiple Inheritance:\n- The Diamond Problem occurs in languages that support multiple inheritance (where a class can inherit from more than one base class).\n  It arises when two or more classes inherit from a common ancestor, and another class inherits from both of these classes. This forms a\n  diamond-shaped inheritance structure, leading to ambiguity about which path to take when accessing methods or attributes from the common ancestor.\n\n# The Diamond Problem in Python:\n- Python resolves the diamond problem using the Method Resolution Order (MRO), which is based on the C3 linearization algorithm.\n  This ensures that the method or attribute is called only once from the first class in the inheritance hierarchy that provides it,\n  and Python avoids duplicating calls from the same method in the ancestor classes.\n\n### Method Resolution Order (MRO):\n# MRO is the order in which Python looks for a method or attribute when it's called on an object.\n# Python computes the MRO when the class is defined, ensuring that the diamond problem is resolved by following a deterministic order.\n** You can retrieve the MRO using the __mro__ attribute or the mro() method of a class. **\n\n### How Python Resolves the Diamond Problem:\n- Single Resolution Path: Python follows a single, well-defined resolution path for methods and attributes, thanks to the MRO.\n  This eliminates ambiguity by determining which method should be called next based on the inheritance hierarchy.\n\n- super(): When using super(), Python doesn't just call the method in the immediate parent class; it refers to the next class in the MRO chain,\n  ensuring a smooth and logical flow of method calls.\n      ",
      "metadata": {
        "trusted": true
      },
      "outputs": [],
      "execution_count": null
    },
    {
      "cell_type": "markdown",
      "source": "### 14. Write a class method that keeps track of the number of instances created from a class.",
      "metadata": {}
    },
    {
      "cell_type": "code",
      "source": "# Ans. \n** You can use a class variable to keep track of the number of instances created from a class and increment this variable inside the __init__ method.\nAdditionally, you can define a class method that can access and return the value of this variable. **\n\n# Here’s an example:\n# Example: Counting Instances with a Class Method\n\nclass InstanceCounter:\n    instance_count = 0  # Class variable to track the number of instances\n\n    def __init__(self):\n        # Increment the class variable whenever a new instance is created\n        InstanceCounter.instance_count += 1\n\n    # Class method to return the number of instances created\n    @classmethod\n    def get_instance_count(cls):\n        return cls.instance_count\n\n# Creating instances\nobj1 = InstanceCounter()\nobj2 = InstanceCounter()\nobj3 = InstanceCounter()\n\n# Accessing the class method to get the instance count\nprint(InstanceCounter.get_instance_count())  # Output: 3\n",
      "metadata": {
        "trusted": true
      },
      "outputs": [],
      "execution_count": null
    },
    {
      "cell_type": "markdown",
      "source": "### 15. Implement a static method in a class that checks if a given year is a leap year",
      "metadata": {}
    },
    {
      "cell_type": "code",
      "source": "# Ans. \n** In Python, a static method is a method that belongs to a class but doesn’t require access to the class (cls) or instance (self) for its operation.\n   It is defined using the @staticmethod decorator and can be used when you don't need to modify class or instance attributes. **\n\n### To implement a static method that checks if a given year is a leap year, we can follow the leap year rules:\n# - A year is a leap year if it is divisible by 4.\n# - However, if the year is divisible by 100, it is not a leap year, unless it is also divisible by 400. \n\n# Example: Leap Year Checker Using a Static Method\nclass Year:\n    # Static method to check if a year is a leap year\n    @staticmethod\n    def is_leap_year(year):\n        if (year % 4 == 0 and year % 100 != 0) or (year % 400 == 0):\n            return True\n        return False\n\n# Testing the static method\nprint(Year.is_leap_year(2020))  # Output: True (Leap year)\nprint(Year.is_leap_year(1900))  # Output: False (Not a leap year)\nprint(Year.is_leap_year(2000))  # Output: True (Leap year)\nprint(Year.is_leap_year(2024))  # Output: True (Leap year)\n",
      "metadata": {
        "trusted": true
      },
      "outputs": [],
      "execution_count": null
    }
  ]
}